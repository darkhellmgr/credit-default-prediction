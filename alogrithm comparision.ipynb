{
 "cells": [
  {
   "cell_type": "markdown",
   "metadata": {},
   "source": [
    "# Credit Card Analysis of MBL : Data Preparation and Model Comparision\n"
   ]
  },
  {
   "cell_type": "markdown",
   "metadata": {},
   "source": [
    "The main objective of this piece of code is to classify the default customer and non default customer according to\n",
    "the data collected with minimum cleaning of noisy or unknown data from the cutomer details. Customer with all maximum value\n",
    "not known is omitted here and only the customer with maximum value in fetaures are included here."
   ]
  },
  {
   "cell_type": "code",
   "execution_count": 87,
   "metadata": {},
   "outputs": [],
   "source": [
    "import pandas as pd\n",
    "import numpy as np\n",
    "import matplotlib.pylab as plt\n",
    "from IPython.display import display, HTML\n",
    "%matplotlib inline"
   ]
  },
  {
   "cell_type": "code",
   "execution_count": 2,
   "metadata": {},
   "outputs": [],
   "source": [
    "#set the output path \n",
    "out_path = \"D:\\credit card\\\\ml_data\\\\\""
   ]
  },
  {
   "cell_type": "code",
   "execution_count": 3,
   "metadata": {
    "scrolled": true
   },
   "outputs": [
    {
     "name": "stdout",
     "output_type": "stream",
     "text": [
      "WARNING *** file size (1164554) not 512 + multiple of sector size (512)\n",
      "WARNING *** OLE2 inconsistency: SSCS size is 0 but SSAT size is non-zero\n"
     ]
    }
   ],
   "source": [
    "#reading file \n",
    "df_bill = pd.read_excel(\"D:\\credit card\\\\MBL CR BILL REPORT  06112018.xls\")\n",
    "df_initial = pd.read_csv(\"D:\\credit card\\\\for_ML.csv\",index_col = 0)"
   ]
  },
  {
   "cell_type": "code",
   "execution_count": 4,
   "metadata": {},
   "outputs": [],
   "source": [
    "#listing card number form bill and customer details\n",
    "bill_card_number = [i for i in df_bill.CARD_NUMBER]\n",
    "initial_card_number = [i for i in df_initial.CARD_NUMBER]"
   ]
  },
  {
   "cell_type": "code",
   "execution_count": 5,
   "metadata": {},
   "outputs": [],
   "source": [
    "#separate only max aging and card number from billing dataset\n",
    "df_bill1 = df_bill[df_bill.columns[[5,16]]]"
   ]
  },
  {
   "cell_type": "code",
   "execution_count": 6,
   "metadata": {},
   "outputs": [],
   "source": [
    "#merge billing details and customer details\n",
    "df_initial2 = pd.merge(df_bill1,df_initial,on=\"CARD_NUMBER\",how=\"inner\")"
   ]
  },
  {
   "cell_type": "code",
   "execution_count": 7,
   "metadata": {
    "scrolled": true
   },
   "outputs": [
    {
     "data": {
      "text/html": [
       "<div>\n",
       "<style scoped>\n",
       "    .dataframe tbody tr th:only-of-type {\n",
       "        vertical-align: middle;\n",
       "    }\n",
       "\n",
       "    .dataframe tbody tr th {\n",
       "        vertical-align: top;\n",
       "    }\n",
       "\n",
       "    .dataframe thead th {\n",
       "        text-align: right;\n",
       "    }\n",
       "</style>\n",
       "<table border=\"1\" class=\"dataframe\">\n",
       "  <thead>\n",
       "    <tr style=\"text-align: right;\">\n",
       "      <th></th>\n",
       "      <th>CARD_NUMBER</th>\n",
       "      <th>MAX_AGING</th>\n",
       "      <th>Gender</th>\n",
       "      <th>MARITAL_STATUS</th>\n",
       "      <th>POSITION</th>\n",
       "      <th>ANNUAL_INCOME_RANGE</th>\n",
       "      <th>Type of employment</th>\n",
       "      <th>YEARS OF EMPLOYMENT</th>\n",
       "      <th>EDUCATION</th>\n",
       "      <th>OTHER BANK DETAILS</th>\n",
       "      <th>NO OF DEPENDENT</th>\n",
       "      <th>SOURCE OF INCOME</th>\n",
       "      <th>PROFESSION</th>\n",
       "      <th>age</th>\n",
       "      <th>customer_type</th>\n",
       "      <th>label</th>\n",
       "      <th>behaviour</th>\n",
       "    </tr>\n",
       "  </thead>\n",
       "  <tbody>\n",
       "    <tr>\n",
       "      <th>0</th>\n",
       "      <td>4020641000011543</td>\n",
       "      <td>2</td>\n",
       "      <td>Male</td>\n",
       "      <td>Married</td>\n",
       "      <td>Owner</td>\n",
       "      <td>unknown</td>\n",
       "      <td>Self-employed</td>\n",
       "      <td>unknown</td>\n",
       "      <td>Graduate</td>\n",
       "      <td>unknown</td>\n",
       "      <td>2</td>\n",
       "      <td>Business</td>\n",
       "      <td>unknown</td>\n",
       "      <td>32</td>\n",
       "      <td>CLIENT</td>\n",
       "      <td>0</td>\n",
       "      <td>0</td>\n",
       "    </tr>\n",
       "    <tr>\n",
       "      <th>1</th>\n",
       "      <td>4020641000011048</td>\n",
       "      <td>0</td>\n",
       "      <td>Male</td>\n",
       "      <td>Married</td>\n",
       "      <td>unknown</td>\n",
       "      <td>720000.0</td>\n",
       "      <td>confidential</td>\n",
       "      <td>unknown</td>\n",
       "      <td>unknown</td>\n",
       "      <td>unknown</td>\n",
       "      <td>unknown</td>\n",
       "      <td>unknown</td>\n",
       "      <td>unknown</td>\n",
       "      <td>32</td>\n",
       "      <td>CLIENT</td>\n",
       "      <td>0</td>\n",
       "      <td>0</td>\n",
       "    </tr>\n",
       "    <tr>\n",
       "      <th>2</th>\n",
       "      <td>4020641000006345</td>\n",
       "      <td>0</td>\n",
       "      <td>Male</td>\n",
       "      <td>Married</td>\n",
       "      <td>Program Co-ordinator</td>\n",
       "      <td>unknown</td>\n",
       "      <td>Employee</td>\n",
       "      <td>more than 10 years</td>\n",
       "      <td>unknown</td>\n",
       "      <td>NIBL</td>\n",
       "      <td>2</td>\n",
       "      <td>Salary</td>\n",
       "      <td>Employee</td>\n",
       "      <td>42</td>\n",
       "      <td>CLIENT</td>\n",
       "      <td>0</td>\n",
       "      <td>1</td>\n",
       "    </tr>\n",
       "    <tr>\n",
       "      <th>3</th>\n",
       "      <td>4020641000006212</td>\n",
       "      <td>0</td>\n",
       "      <td>Male</td>\n",
       "      <td>Married</td>\n",
       "      <td>MD</td>\n",
       "      <td>3600000.0</td>\n",
       "      <td>Self-employed</td>\n",
       "      <td>5 to 10 years</td>\n",
       "      <td>Intermediate</td>\n",
       "      <td>unknown</td>\n",
       "      <td>3</td>\n",
       "      <td>Salary</td>\n",
       "      <td>Employee</td>\n",
       "      <td>47</td>\n",
       "      <td>CLIENT</td>\n",
       "      <td>0</td>\n",
       "      <td>1</td>\n",
       "    </tr>\n",
       "    <tr>\n",
       "      <th>4</th>\n",
       "      <td>4020641000006253</td>\n",
       "      <td>0</td>\n",
       "      <td>Male</td>\n",
       "      <td>Married</td>\n",
       "      <td>Accountant</td>\n",
       "      <td>unknown</td>\n",
       "      <td>Employee</td>\n",
       "      <td>more than 10 years</td>\n",
       "      <td>unknown</td>\n",
       "      <td>unknown</td>\n",
       "      <td>Salary</td>\n",
       "      <td>Employee</td>\n",
       "      <td>Private</td>\n",
       "      <td>44</td>\n",
       "      <td>CLIENT</td>\n",
       "      <td>0</td>\n",
       "      <td>0</td>\n",
       "    </tr>\n",
       "  </tbody>\n",
       "</table>\n",
       "</div>"
      ],
      "text/plain": [
       "        CARD_NUMBER  MAX_AGING Gender MARITAL_STATUS              POSITION  \\\n",
       "0  4020641000011543          2   Male        Married                 Owner   \n",
       "1  4020641000011048          0   Male        Married               unknown   \n",
       "2  4020641000006345          0   Male        Married  Program Co-ordinator   \n",
       "3  4020641000006212          0   Male        Married                    MD   \n",
       "4  4020641000006253          0   Male        Married            Accountant   \n",
       "\n",
       "  ANNUAL_INCOME_RANGE Type of employment YEARS OF EMPLOYMENT     EDUCATION  \\\n",
       "0             unknown      Self-employed             unknown      Graduate   \n",
       "1            720000.0       confidential             unknown       unknown   \n",
       "2             unknown           Employee  more than 10 years       unknown   \n",
       "3           3600000.0      Self-employed       5 to 10 years  Intermediate   \n",
       "4             unknown           Employee  more than 10 years       unknown   \n",
       "\n",
       "  OTHER BANK DETAILS NO OF DEPENDENT SOURCE OF INCOME PROFESSION  age  \\\n",
       "0            unknown               2         Business    unknown   32   \n",
       "1            unknown         unknown          unknown    unknown   32   \n",
       "2               NIBL               2           Salary   Employee   42   \n",
       "3            unknown               3           Salary   Employee   47   \n",
       "4            unknown          Salary         Employee    Private   44   \n",
       "\n",
       "  customer_type  label  behaviour  \n",
       "0        CLIENT      0          0  \n",
       "1        CLIENT      0          0  \n",
       "2        CLIENT      0          1  \n",
       "3        CLIENT      0          1  \n",
       "4        CLIENT      0          0  "
      ]
     },
     "execution_count": 7,
     "metadata": {},
     "output_type": "execute_result"
    }
   ],
   "source": [
    "df_initial2.head()"
   ]
  },
  {
   "cell_type": "code",
   "execution_count": 8,
   "metadata": {
    "scrolled": true
   },
   "outputs": [
    {
     "data": {
      "text/plain": [
       "(502, 17)"
      ]
     },
     "execution_count": 8,
     "metadata": {},
     "output_type": "execute_result"
    }
   ],
   "source": [
    "df_initial2.shape"
   ]
  },
  {
   "cell_type": "markdown",
   "metadata": {},
   "source": [
    "Here we have only have 502 observation i.e 502 customer details with maximum known value and 22 features."
   ]
  },
  {
   "cell_type": "code",
   "execution_count": 9,
   "metadata": {},
   "outputs": [
    {
     "data": {
      "text/plain": [
       "['CARD_NUMBER',\n",
       " 'MAX_AGING',\n",
       " 'Gender',\n",
       " 'MARITAL_STATUS',\n",
       " 'POSITION',\n",
       " 'ANNUAL_INCOME_RANGE',\n",
       " 'Type of employment',\n",
       " 'YEARS OF EMPLOYMENT',\n",
       " 'EDUCATION',\n",
       " 'OTHER BANK DETAILS',\n",
       " 'NO OF DEPENDENT',\n",
       " 'SOURCE OF INCOME',\n",
       " 'PROFESSION',\n",
       " 'age',\n",
       " 'customer_type',\n",
       " 'label',\n",
       " 'behaviour']"
      ]
     },
     "execution_count": 9,
     "metadata": {},
     "output_type": "execute_result"
    }
   ],
   "source": [
    "list(df_initial2)"
   ]
  },
  {
   "cell_type": "code",
   "execution_count": 10,
   "metadata": {},
   "outputs": [
    {
     "name": "stdout",
     "output_type": "stream",
     "text": [
      "['Married' 'Unmarried' 'unknown' 'Single']\n",
      "['Male' 'Female']\n",
      "['Owner' 'unknown' 'Program Co-ordinator' 'MD' 'Accountant' 'CEO'\n",
      " 'Program Manager' 'Proprietor' 'Assistant Director' 'SR. Assistant'\n",
      " 'Managing Director' 'Account Manager' 'Promoter' 'Sr. Officer'\n",
      " 'Principal' 'Chairman' 'Assistant Manager' 'Physician' 'Deputy Director'\n",
      " 'Teacher' 'Assitant DIrector' 'Finance Manager' 'Self Employed'\n",
      " 'Consult Physician' 'Shareholder' 'Physiotherapist' 'Assistant'\n",
      " 'General Manager' 'Business Analyst' 'Messsenger' 'Civil Engineer'\n",
      " 'Manger' 'Admin Officer' 'Senior- Officer' 'Designing Engineer'\n",
      " 'Retired Army' 'Gynecologist' 'ED' 'Manager' 'Sales Manger'\n",
      " 'Junior officer' 'Officer' 'Coordinator' 'Associate software Engineer'\n",
      " 'Assistant General Manager' 'Chief Finance Officer' 'First Officer'\n",
      " 'Police Officer' 'Senior Marketing Manager' 'Tour Officer'\n",
      " 'Admission Officer' 'Director' 'Marketing Manager' 'Finance Officer'\n",
      " 'Captain' 'Jr. Business Analyst' 'Driver' 'Instructor'\n",
      " 'Senior Consultant Surgeon' 'Telephone Operator Level 4' 'Head Assistant'\n",
      " 'Operational Manager' 'Security Incharge' 'Asssitant Director' 'Clerk'\n",
      " 'Jr. Busniess Analyst' 'ASM' \"Proprietor's Son\" 'Assistant Accountant'\n",
      " 'Doctor' 'Supervisor' 'Junior Assistant' 'Sales and Marketing'\n",
      " 'Senior Officer' 'Deputy Manager' 'Senior Assistant Officer'\n",
      " 'Senior Assitant Finance' 'Procurement Officer'\n",
      " 'Corporate junior assistance' 'Production Incharge' 'Self-employed'\n",
      " 'Project Coordinator' 'Brach Manager' 'Flight Manager' 'Assitant Manager'\n",
      " 'Senior Business Analyst' 'Government Employee' 'Account Officer'\n",
      " 'Head Assitant' 'Senior Assistant' 'Finance Chief'\n",
      " 'Consultant Radiologist' 'Propreitor' 'Assitant Director'\n",
      " 'Senior Finance Officer' 'Consultant Psychiologist'\n",
      " 'Senior Research Officer' 'IT officer' 'Executive Chairmen'\n",
      " 'Deputy Sales Manager' 'COO' 'Head Human Resource' 'Investment Manager'\n",
      " 'Service and technical head' 'Sales Manager' 'Executive director'\n",
      " 'Assistant director' 'Helpline Operator' 'Account Head'\n",
      " 'Marketing Officer' 'Chartered Accountant' 'Managing DIrector'\n",
      " 'Dental Surgeon' 'Executive Officer' 'Bank Partnership Advisor'\n",
      " 'Messenger' 'School consulting head' 'Staff Nurse' 'S. Assistant'\n",
      " '1208496' 'Assitant' 'Senior Trainer' 'Employee' 'Teacher/ Student Dean'\n",
      " 'Consultant' 'Campus Chief' 'Lawyer' 'Employed' 'Consultant Pediatrician'\n",
      " 'Vice- principal' 'Founder' 'Creative Director']\n"
     ]
    }
   ],
   "source": [
    "#checking unique value\n",
    "print(df_initial.MARITAL_STATUS.unique())\n",
    "print(df_initial2.Gender.unique())\n",
    "print(df_initial2.POSITION.unique())"
   ]
  },
  {
   "cell_type": "code",
   "execution_count": 11,
   "metadata": {},
   "outputs": [],
   "source": [
    "#making new columns according to max aging details\n",
    "df_initial2['current'] = np.where(df_initial2['MAX_AGING'] == 0, 1, 0)\n",
    "df_initial2['dirty'] = np.where(df_initial2['MAX_AGING'] > 0, 1, 0)\n",
    "df_initial2['30dpd'] = np.where(df_initial2['MAX_AGING'] == 1, 1, 0)\n",
    "df_initial2['60dpd'] = np.where(df_initial2['MAX_AGING'] == 2, 1, 0)\n",
    "df_initial2['Default'] = np.where(df_initial2['MAX_AGING'] > 3, 1, 0)"
   ]
  },
  {
   "cell_type": "markdown",
   "metadata": {},
   "source": [
    "Customer with maximum aging of 3 or more than 3 months have been categorize into default customer. So, Our label here will be default column"
   ]
  },
  {
   "cell_type": "code",
   "execution_count": 12,
   "metadata": {},
   "outputs": [
    {
     "data": {
      "text/plain": [
       "(502, 22)"
      ]
     },
     "execution_count": 12,
     "metadata": {},
     "output_type": "execute_result"
    }
   ],
   "source": [
    "df_initial2.shape"
   ]
  },
  {
   "cell_type": "code",
   "execution_count": 13,
   "metadata": {},
   "outputs": [
    {
     "data": {
      "text/html": [
       "<div>\n",
       "<style scoped>\n",
       "    .dataframe tbody tr th:only-of-type {\n",
       "        vertical-align: middle;\n",
       "    }\n",
       "\n",
       "    .dataframe tbody tr th {\n",
       "        vertical-align: top;\n",
       "    }\n",
       "\n",
       "    .dataframe thead th {\n",
       "        text-align: right;\n",
       "    }\n",
       "</style>\n",
       "<table border=\"1\" class=\"dataframe\">\n",
       "  <thead>\n",
       "    <tr style=\"text-align: right;\">\n",
       "      <th></th>\n",
       "      <th>CARD_NUMBER</th>\n",
       "      <th>MAX_AGING</th>\n",
       "      <th>Gender</th>\n",
       "      <th>MARITAL_STATUS</th>\n",
       "      <th>POSITION</th>\n",
       "      <th>ANNUAL_INCOME_RANGE</th>\n",
       "      <th>Type of employment</th>\n",
       "      <th>YEARS OF EMPLOYMENT</th>\n",
       "      <th>EDUCATION</th>\n",
       "      <th>OTHER BANK DETAILS</th>\n",
       "      <th>...</th>\n",
       "      <th>PROFESSION</th>\n",
       "      <th>age</th>\n",
       "      <th>customer_type</th>\n",
       "      <th>label</th>\n",
       "      <th>behaviour</th>\n",
       "      <th>current</th>\n",
       "      <th>dirty</th>\n",
       "      <th>30dpd</th>\n",
       "      <th>60dpd</th>\n",
       "      <th>Default</th>\n",
       "    </tr>\n",
       "  </thead>\n",
       "  <tbody>\n",
       "    <tr>\n",
       "      <th>0</th>\n",
       "      <td>4020641000011543</td>\n",
       "      <td>2</td>\n",
       "      <td>Male</td>\n",
       "      <td>Married</td>\n",
       "      <td>Owner</td>\n",
       "      <td>unknown</td>\n",
       "      <td>Self-employed</td>\n",
       "      <td>unknown</td>\n",
       "      <td>Graduate</td>\n",
       "      <td>unknown</td>\n",
       "      <td>...</td>\n",
       "      <td>unknown</td>\n",
       "      <td>32</td>\n",
       "      <td>CLIENT</td>\n",
       "      <td>0</td>\n",
       "      <td>0</td>\n",
       "      <td>0</td>\n",
       "      <td>1</td>\n",
       "      <td>0</td>\n",
       "      <td>1</td>\n",
       "      <td>0</td>\n",
       "    </tr>\n",
       "    <tr>\n",
       "      <th>1</th>\n",
       "      <td>4020641000011048</td>\n",
       "      <td>0</td>\n",
       "      <td>Male</td>\n",
       "      <td>Married</td>\n",
       "      <td>unknown</td>\n",
       "      <td>720000.0</td>\n",
       "      <td>confidential</td>\n",
       "      <td>unknown</td>\n",
       "      <td>unknown</td>\n",
       "      <td>unknown</td>\n",
       "      <td>...</td>\n",
       "      <td>unknown</td>\n",
       "      <td>32</td>\n",
       "      <td>CLIENT</td>\n",
       "      <td>0</td>\n",
       "      <td>0</td>\n",
       "      <td>1</td>\n",
       "      <td>0</td>\n",
       "      <td>0</td>\n",
       "      <td>0</td>\n",
       "      <td>0</td>\n",
       "    </tr>\n",
       "  </tbody>\n",
       "</table>\n",
       "<p>2 rows × 22 columns</p>\n",
       "</div>"
      ],
      "text/plain": [
       "        CARD_NUMBER  MAX_AGING Gender MARITAL_STATUS POSITION  \\\n",
       "0  4020641000011543          2   Male        Married    Owner   \n",
       "1  4020641000011048          0   Male        Married  unknown   \n",
       "\n",
       "  ANNUAL_INCOME_RANGE Type of employment YEARS OF EMPLOYMENT EDUCATION  \\\n",
       "0             unknown      Self-employed             unknown  Graduate   \n",
       "1            720000.0       confidential             unknown   unknown   \n",
       "\n",
       "  OTHER BANK DETAILS   ...    PROFESSION age customer_type  label behaviour  \\\n",
       "0            unknown   ...       unknown  32        CLIENT      0         0   \n",
       "1            unknown   ...       unknown  32        CLIENT      0         0   \n",
       "\n",
       "   current  dirty  30dpd  60dpd  Default  \n",
       "0        0      1      0      1        0  \n",
       "1        1      0      0      0        0  \n",
       "\n",
       "[2 rows x 22 columns]"
      ]
     },
     "execution_count": 13,
     "metadata": {},
     "output_type": "execute_result"
    }
   ],
   "source": [
    "df_initial2.head(2)"
   ]
  },
  {
   "cell_type": "code",
   "execution_count": 14,
   "metadata": {},
   "outputs": [],
   "source": [
    "df_initial2.to_csv(out_path+'\\\\MBL_processed_data.csv')"
   ]
  },
  {
   "cell_type": "code",
   "execution_count": 15,
   "metadata": {},
   "outputs": [],
   "source": [
    "df_1 = df_initial2.copy()"
   ]
  },
  {
   "cell_type": "code",
   "execution_count": 16,
   "metadata": {},
   "outputs": [],
   "source": [
    "# df_1a = df_1[df_1['60dpd'] == 0]\n",
    "# df_2 = df_1a[df_1a['Default'] == 0]\n",
    "# # df_2.drop(['60dpd','Default'],axis =1)\n",
    "# print(df_1a.shape,df_2.shape)"
   ]
  },
  {
   "cell_type": "markdown",
   "metadata": {},
   "source": [
    "For plotting graph"
   ]
  },
  {
   "cell_type": "code",
   "execution_count": 17,
   "metadata": {},
   "outputs": [],
   "source": [
    "import matplotlib.pyplot as plt\n",
    "plt.rc(\"font\",size=12)\n",
    "import seaborn as sns\n",
    "sns.set(style=\"white\")\n",
    "sns.set(style=\"whitegrid\",color_codes=True)"
   ]
  },
  {
   "cell_type": "code",
   "execution_count": 18,
   "metadata": {},
   "outputs": [],
   "source": [
    "#drop unnecessary features from copied dataset\n",
    "df_model = df_1.copy()\n",
    "df_model = df_model.drop(['customer_type','behaviour','PROFESSION','60dpd','label','30dpd'],axis=1)"
   ]
  },
  {
   "cell_type": "code",
   "execution_count": 19,
   "metadata": {},
   "outputs": [
    {
     "data": {
      "text/plain": [
       "CARD_NUMBER             int64\n",
       "MAX_AGING               int64\n",
       "Gender                 object\n",
       "MARITAL_STATUS         object\n",
       "POSITION               object\n",
       "ANNUAL_INCOME_RANGE    object\n",
       "Type of employment     object\n",
       "YEARS OF EMPLOYMENT    object\n",
       "EDUCATION              object\n",
       "OTHER BANK DETAILS     object\n",
       "NO OF DEPENDENT        object\n",
       "SOURCE OF INCOME       object\n",
       "age                     int64\n",
       "current                 int32\n",
       "dirty                   int32\n",
       "Default                 int32\n",
       "dtype: object"
      ]
     },
     "execution_count": 19,
     "metadata": {},
     "output_type": "execute_result"
    }
   ],
   "source": [
    "df_model.dtypes"
   ]
  },
  {
   "cell_type": "code",
   "execution_count": 20,
   "metadata": {},
   "outputs": [],
   "source": [
    "#changing datatype of features\n",
    "df_model = df_model.astype({\"Gender\": str, \"MARITAL_STATUS\": str, \"POSITION\": str, \"Type of employment\": str, \n",
    "                            \"YEARS OF EMPLOYMENT\": str,\"EDUCATION\": str, \"NO OF DEPENDENT\": str,\"SOURCE OF INCOME\": str,\"age\":int,\"Default\":int})"
   ]
  },
  {
   "cell_type": "code",
   "execution_count": 21,
   "metadata": {
    "scrolled": true
   },
   "outputs": [
    {
     "data": {
      "text/plain": [
       "0    486\n",
       "1     16\n",
       "Name: Default, dtype: int64"
      ]
     },
     "execution_count": 21,
     "metadata": {},
     "output_type": "execute_result"
    }
   ],
   "source": [
    "#counting the label balance of default customer\n",
    "df_model['Default'].value_counts()"
   ]
  },
  {
   "cell_type": "markdown",
   "metadata": {},
   "source": [
    "We can see the label is not balance "
   ]
  },
  {
   "cell_type": "code",
   "execution_count": 22,
   "metadata": {},
   "outputs": [],
   "source": [
    "# df_model.rename(columns = {'Default':'30dpd'},inplace = True)"
   ]
  },
  {
   "cell_type": "code",
   "execution_count": 23,
   "metadata": {
    "scrolled": true
   },
   "outputs": [
    {
     "data": {
      "image/png": "[encoded data removed]",
      "text/plain": [
       "<Figure size 432x288 with 1 Axes>"
      ]
     },
     "metadata": {},
     "output_type": "display_data"
    }
   ],
   "source": [
    "sns.countplot(x='Default',data=df_model)\n",
    "# plt.show()\n",
    "plt.title('Default and Non-Default Rate')\n",
    "plt.savefig('counts_plot')"
   ]
  },
  {
   "cell_type": "code",
   "execution_count": 24,
   "metadata": {},
   "outputs": [
    {
     "name": "stdout",
     "output_type": "stream",
     "text": [
      "Percentage of delinquent is: 3.187250996015936\n",
      "Percentage of no delinquent is: 96.81274900398407\n"
     ]
    }
   ],
   "source": [
    "count_no_del = len(df_model[df_model['Default']==0])\n",
    "count_del = len(df_model[df_model['Default']==1])\n",
    "pct_no_del = count_no_del/(count_no_del+count_del) \n",
    "pct_del= count_del/(count_no_del+count_del)\n",
    "print(\"Percentage of delinquent is:\", pct_del*100)\n",
    "print(\"Percentage of no delinquent is:\", pct_no_del*100)"
   ]
  },
  {
   "cell_type": "code",
   "execution_count": 25,
   "metadata": {},
   "outputs": [],
   "source": [
    "df_model.groupby('Default').mean()\n",
    "df_model.rename(columns={'Default':'y'},inplace=True)"
   ]
  },
  {
   "cell_type": "code",
   "execution_count": 26,
   "metadata": {},
   "outputs": [
    {
     "data": {
      "image/png": "[encoded data removed]",
      "text/plain": [
       "<Figure size 432x288 with 1 Axes>"
      ]
     },
     "metadata": {},
     "output_type": "display_data"
    }
   ],
   "source": [
    "pd.crosstab(df_model.Gender, df_model.y).plot(kind='bar')\n",
    "plt.title('Gender and Delinquency')\n",
    "plt.xlabel('Gender')\n",
    "plt.ylabel('Delinquency')\n",
    "plt.savefig('Gender_delinquency')"
   ]
  },
  {
   "cell_type": "code",
   "execution_count": 27,
   "metadata": {},
   "outputs": [
    {
     "data": {
      "text/plain": [
       "array(['Male', 'Female'], dtype=object)"
      ]
     },
     "execution_count": 27,
     "metadata": {},
     "output_type": "execute_result"
    }
   ],
   "source": [
    "df_model.Gender.unique()"
   ]
  },
  {
   "cell_type": "code",
   "execution_count": 28,
   "metadata": {},
   "outputs": [
    {
     "data": {
      "text/html": [
       "<div>\n",
       "<style scoped>\n",
       "    .dataframe tbody tr th:only-of-type {\n",
       "        vertical-align: middle;\n",
       "    }\n",
       "\n",
       "    .dataframe tbody tr th {\n",
       "        vertical-align: top;\n",
       "    }\n",
       "\n",
       "    .dataframe thead th {\n",
       "        text-align: right;\n",
       "    }\n",
       "</style>\n",
       "<table border=\"1\" class=\"dataframe\">\n",
       "  <thead>\n",
       "    <tr style=\"text-align: right;\">\n",
       "      <th>y</th>\n",
       "      <th>0</th>\n",
       "      <th>1</th>\n",
       "    </tr>\n",
       "    <tr>\n",
       "      <th>Gender</th>\n",
       "      <th></th>\n",
       "      <th></th>\n",
       "    </tr>\n",
       "  </thead>\n",
       "  <tbody>\n",
       "    <tr>\n",
       "      <th>Female</th>\n",
       "      <td>55</td>\n",
       "      <td>2</td>\n",
       "    </tr>\n",
       "    <tr>\n",
       "      <th>Male</th>\n",
       "      <td>431</td>\n",
       "      <td>14</td>\n",
       "    </tr>\n",
       "  </tbody>\n",
       "</table>\n",
       "</div>"
      ],
      "text/plain": [
       "y         0   1\n",
       "Gender         \n",
       "Female   55   2\n",
       "Male    431  14"
      ]
     },
     "execution_count": 28,
     "metadata": {},
     "output_type": "execute_result"
    },
    {
     "data": {
      "image/png": "[encoded data removed]",
      "text/plain": [
       "<Figure size 432x288 with 1 Axes>"
      ]
     },
     "metadata": {},
     "output_type": "display_data"
    }
   ],
   "source": [
    "#Instead of comparing absolute numbers, let's compare percentages\n",
    "\n",
    "#First, the distribution in Gender. \n",
    "\n",
    "table=pd.crosstab(df_model.Gender, df_model.y)\n",
    "table.div(table.sum(1).astype(float), axis=0).plot(kind='bar', stacked=True)\n",
    "plt.title('Gender vs Delinquency')\n",
    "plt.xlabel('Gender')\n",
    "plt.ylabel('Delinquency')\n",
    "plt.savefig('gender_vs_del_stack')\n",
    "\n",
    "# The missing gender data behavior is closer to 2, ie female. \n",
    "table"
   ]
  },
  {
   "cell_type": "code",
   "execution_count": 29,
   "metadata": {
    "scrolled": true
   },
   "outputs": [
    {
     "data": {
      "image/png": "[encoded data removed]",
      "text/plain": [
       "<Figure size 432x288 with 1 Axes>"
      ]
     },
     "metadata": {},
     "output_type": "display_data"
    }
   ],
   "source": [
    "#The distribution in Marital Status. \n",
    "table=pd.crosstab(df_model.MARITAL_STATUS, df_model.y)\n",
    "table.div(table.sum(1).astype(float), axis=0).plot(kind='bar', stacked=True)\n",
    "plt.title('Marital Status vs Delinquency')\n",
    "plt.xlabel('Marital Status')\n",
    "plt.ylabel('Delinquency')\n",
    "plt.savefig('martStat_vs_del_stack')\n",
    "# the category \"single\" can be ignored, this is data garbage. Theres one account tagged single."
   ]
  },
  {
   "cell_type": "code",
   "execution_count": 30,
   "metadata": {},
   "outputs": [],
   "source": [
    "#As annual income range contain unknown strings we replace it by 0\n",
    "df_model.ANNUAL_INCOME_RANGE = df_model.ANNUAL_INCOME_RANGE.replace(\"unknown\",\"0\")\n",
    "df_model.ANNUAL_INCOME_RANGE = pd.to_numeric(df_model.ANNUAL_INCOME_RANGE, errors='coerce').fillna(0).astype(np.int64)"
   ]
  },
  {
   "cell_type": "code",
   "execution_count": 31,
   "metadata": {},
   "outputs": [
    {
     "data": {
      "text/plain": [
       "1455651.1334661355"
      ]
     },
     "execution_count": 31,
     "metadata": {},
     "output_type": "execute_result"
    }
   ],
   "source": [
    "mean_ANNUAL_INCOME_RANGE = df_model['ANNUAL_INCOME_RANGE'].mean(skipna=True)\n",
    "mean_ANNUAL_INCOME_RANGE"
   ]
  },
  {
   "cell_type": "code",
   "execution_count": 32,
   "metadata": {},
   "outputs": [
    {
     "name": "stderr",
     "output_type": "stream",
     "text": [
      "d:\\env\\lib\\site-packages\\pandas\\core\\indexing.py:189: SettingWithCopyWarning: \n",
      "A value is trying to be set on a copy of a slice from a DataFrame\n",
      "\n",
      "See the caveats in the documentation: http://pandas.pydata.org/pandas-docs/stable/indexing.html#indexing-view-versus-copy\n",
      "  self._setitem_with_indexer(indexer, value)\n"
     ]
    }
   ],
   "source": [
    "#replaing 0 annual income with average annual income range\n",
    "df_model.ANNUAL_INCOME_RANGE.loc[df_model.ANNUAL_INCOME_RANGE == 0] = mean_ANNUAL_INCOME_RANGE\n",
    "df_model.ANNUAL_INCOME_RANGE = df_model.ANNUAL_INCOME_RANGE.astype(np.int64)"
   ]
  },
  {
   "cell_type": "code",
   "execution_count": 33,
   "metadata": {},
   "outputs": [
    {
     "data": {
      "text/plain": [
       "<matplotlib.axes._subplots.AxesSubplot at 0x1f88736eef0>"
      ]
     },
     "execution_count": 33,
     "metadata": {},
     "output_type": "execute_result"
    },
    {
     "data": {
      "image/png": "[encoded data removed]",
      "text/plain": [
       "<Figure size 432x288 with 1 Axes>"
      ]
     },
     "metadata": {},
     "output_type": "display_data"
    }
   ],
   "source": [
    "# lets do some scatterplot using continous data\n",
    "sns.regplot(x=df_model['ANNUAL_INCOME_RANGE'], y=df_model['y'])\n",
    "#it isnt going to mean much because the dependent variable is not continous it is categorical. \n",
    "#Now lets get along with building the model"
   ]
  },
  {
   "cell_type": "code",
   "execution_count": 34,
   "metadata": {},
   "outputs": [
    {
     "data": {
      "image/png": "[encoded data removed]",
      "text/plain": [
       "<Figure size 432x288 with 1 Axes>"
      ]
     },
     "metadata": {},
     "output_type": "display_data"
    }
   ],
   "source": [
    "df_model.ANNUAL_INCOME_RANGE.hist()\n",
    "plt.title('Histogram of ANNUAL_INCOME_RANGE')\n",
    "plt.xlabel('ANNUAL_INCOME_RANGE')\n",
    "plt.ylabel('Frequency')\n",
    "plt.savefig('hist_inc')"
   ]
  },
  {
   "cell_type": "code",
   "execution_count": 35,
   "metadata": {},
   "outputs": [],
   "source": [
    "# df_model_final.loc[df_model_final['MARITAL_STATUS']==\"Single\",'MARITAL_STATUS']=2"
   ]
  },
  {
   "cell_type": "code",
   "execution_count": 36,
   "metadata": {},
   "outputs": [
    {
     "data": {
      "text/plain": [
       "['CARD_NUMBER',\n",
       " 'MAX_AGING',\n",
       " 'Gender',\n",
       " 'MARITAL_STATUS',\n",
       " 'POSITION',\n",
       " 'ANNUAL_INCOME_RANGE',\n",
       " 'Type of employment',\n",
       " 'YEARS OF EMPLOYMENT',\n",
       " 'EDUCATION',\n",
       " 'OTHER BANK DETAILS',\n",
       " 'NO OF DEPENDENT',\n",
       " 'SOURCE OF INCOME',\n",
       " 'age',\n",
       " 'current',\n",
       " 'dirty',\n",
       " 'y']"
      ]
     },
     "execution_count": 36,
     "metadata": {},
     "output_type": "execute_result"
    }
   ],
   "source": [
    "list(df_model)"
   ]
  },
  {
   "cell_type": "code",
   "execution_count": 37,
   "metadata": {},
   "outputs": [],
   "source": [
    "#as position contains inconsistent data and noisy data we remove the position columns for now #need to care while collecting the data\n",
    "df_model.POSITION.unique()\n",
    "df_model = df_model.drop(\"POSITION\",axis=1)"
   ]
  },
  {
   "cell_type": "code",
   "execution_count": 38,
   "metadata": {},
   "outputs": [
    {
     "name": "stdout",
     "output_type": "stream",
     "text": [
      "['Self-employed' 'confidential' 'Employee' 'Army' 'Employer']\n",
      "['Graduate' 'unknown' 'Intermediate' 'Post-graduated' 'Under Graduate'\n",
      " 'Graduated' 'Post Graduate' 'Under Graduated' 'Others' 'Under graduate'\n",
      " 'MBL Home Loan' ' ' 'Post graduate' 'Poat Graduate']\n"
     ]
    }
   ],
   "source": [
    "#checking unique columns\n",
    "print(df_model['Type of employment'].unique())\n",
    "print(df_model.EDUCATION.unique())"
   ]
  },
  {
   "cell_type": "code",
   "execution_count": 39,
   "metadata": {},
   "outputs": [],
   "source": [
    "#We can see education column has inconsistent data so cleaning is required\n",
    "def make_consistent_education(i):\n",
    "        if (i.startswith(\"P\") or i.startswith(\"p\")):\n",
    "            return(\"post_graduate\")\n",
    "        elif(i.startswith(\"U\") or i.startswith(\"u\")):\n",
    "            return \"under_graduate\"\n",
    "        elif(i.startswith(\"Inter\") or i.startswith(\"inter\")):\n",
    "            return \"intermediate\"\n",
    "        elif(i.startswith(\"G\") or i.startswith(\"g\")):\n",
    "            return \"graduate\"\n",
    "        else:\n",
    "            return np.nan"
   ]
  },
  {
   "cell_type": "code",
   "execution_count": 40,
   "metadata": {
    "scrolled": true
   },
   "outputs": [
    {
     "data": {
      "text/plain": [
       "array(['graduate', 'under_graduate', 'intermediate', 'post_graduate', nan],\n",
       "      dtype=object)"
      ]
     },
     "execution_count": 40,
     "metadata": {},
     "output_type": "execute_result"
    }
   ],
   "source": [
    "df_model.EDUCATION  = df_model.EDUCATION.apply(lambda x: make_consistent_education(x))\n",
    "df_model.EDUCATION.unique()"
   ]
  },
  {
   "cell_type": "code",
   "execution_count": 41,
   "metadata": {},
   "outputs": [
    {
     "data": {
      "text/plain": [
       "['CARD_NUMBER',\n",
       " 'MAX_AGING',\n",
       " 'Gender',\n",
       " 'MARITAL_STATUS',\n",
       " 'ANNUAL_INCOME_RANGE',\n",
       " 'Type of employment',\n",
       " 'YEARS OF EMPLOYMENT',\n",
       " 'EDUCATION',\n",
       " 'OTHER BANK DETAILS',\n",
       " 'NO OF DEPENDENT',\n",
       " 'SOURCE OF INCOME',\n",
       " 'age',\n",
       " 'current',\n",
       " 'dirty',\n",
       " 'y']"
      ]
     },
     "execution_count": 41,
     "metadata": {},
     "output_type": "execute_result"
    }
   ],
   "source": [
    "list(df_model)"
   ]
  },
  {
   "cell_type": "code",
   "execution_count": 42,
   "metadata": {},
   "outputs": [
    {
     "data": {
      "text/plain": [
       "array(['unknown', 'more than 10 years', '5 to 10 years',\n",
       "       'More than 10 years', '2 to 5 years', '3 to 5 years',\n",
       "       '0 to 2 years', 'Employed ', 'Employee', ' 2 to 5 years',\n",
       "       'Over 10 years', '2 to 5 Years', 'Self employed', 'below 1 year',\n",
       "       '10 years'], dtype=object)"
      ]
     },
     "execution_count": 42,
     "metadata": {},
     "output_type": "execute_result"
    }
   ],
   "source": [
    "df_model['YEARS OF EMPLOYMENT'].unique()"
   ]
  },
  {
   "cell_type": "code",
   "execution_count": 43,
   "metadata": {},
   "outputs": [],
   "source": [
    "df_model.loc[df_model['MARITAL_STATUS']==\"Single\",'MARITAL_STATUS']=\"Unmarried\""
   ]
  },
  {
   "cell_type": "code",
   "execution_count": 44,
   "metadata": {},
   "outputs": [],
   "source": [
    "#cleaning the years of employment inconsistent data\n",
    "df_model.loc[df_model['YEARS OF EMPLOYMENT']==\"more than 10 years\",'YEARS OF EMPLOYMENT']=\"more_than_10yrs\"\n",
    "df_model.loc[df_model['YEARS OF EMPLOYMENT']==\"Over 10 years\",'YEARS OF EMPLOYMENT']=\"more_than_10yrs\"\n",
    "df_model.loc[df_model['YEARS OF EMPLOYMENT']==\"10 years\",'YEARS OF EMPLOYMENT']=\"more_than_10yrs\"\n",
    "df_model.loc[df_model['YEARS OF EMPLOYMENT']==\"5 to 10 years\",'YEARS OF EMPLOYMENT']=\"5_to_10yrs\"\n",
    "df_model.loc[df_model['YEARS OF EMPLOYMENT']==\"More than 10 years\",'YEARS OF EMPLOYMENT']=\"more_than_10yrs\"\n",
    "df_model.loc[df_model['YEARS OF EMPLOYMENT']==\"3 to 5 years\",'YEARS OF EMPLOYMENT']=\"2_to_5yrs\"\n",
    "df_model.loc[df_model['YEARS OF EMPLOYMENT']==\"2 to 5 years\",'YEARS OF EMPLOYMENT']=\"2_to_5yrs\"\n",
    "df_model.loc[df_model['YEARS OF EMPLOYMENT']==\" 2 to 5 years\",'YEARS OF EMPLOYMENT']=\"2_to_5yrs\"\n",
    "df_model.loc[df_model['YEARS OF EMPLOYMENT']==\"2 to 5 Years\",'YEARS OF EMPLOYMENT']=\"2_to_5yrs\"\n",
    "df_model.loc[df_model['YEARS OF EMPLOYMENT']==\"0 to 2 years\",'YEARS OF EMPLOYMENT']=\"0_to_2yrs\"\n",
    "df_model.loc[df_model['YEARS OF EMPLOYMENT']==\"below 1 year\",'YEARS OF EMPLOYMENT']=\"0_to_2yrs\"\n",
    "df_model.loc[df_model['YEARS OF EMPLOYMENT']==\"unknown\",'YEARS OF EMPLOYMENT']=\"5_to_10yrs\"\n",
    "df_model.loc[df_model['YEARS OF EMPLOYMENT']==\"Self employed\",'YEARS OF EMPLOYMENT']=np.nan\n",
    "df_model.loc[df_model['YEARS OF EMPLOYMENT']==\"Employee\",'YEARS OF EMPLOYMENT']=np.nan\n",
    "df_model.loc[df_model['YEARS OF EMPLOYMENT']==\"Employed \",'YEARS OF EMPLOYMENT']=np.nan"
   ]
  },
  {
   "cell_type": "code",
   "execution_count": 45,
   "metadata": {},
   "outputs": [
    {
     "data": {
      "text/plain": [
       "5_to_10yrs         290\n",
       "2_to_5yrs          117\n",
       "more_than_10yrs     77\n",
       "0_to_2yrs           15\n",
       "Name: YEARS OF EMPLOYMENT, dtype: int64"
      ]
     },
     "execution_count": 45,
     "metadata": {},
     "output_type": "execute_result"
    }
   ],
   "source": [
    "df_model['YEARS OF EMPLOYMENT'].value_counts()"
   ]
  },
  {
   "cell_type": "code",
   "execution_count": 46,
   "metadata": {},
   "outputs": [],
   "source": [
    "df_model.loc[(df_model[\"OTHER BANK DETAILS\"]!=\"unknown\")&(df_model[\"OTHER BANK DETAILS\"]!='None'),\"OTHER BANK DETAILS\"] = \"yes\""
   ]
  },
  {
   "cell_type": "code",
   "execution_count": 47,
   "metadata": {},
   "outputs": [
    {
     "data": {
      "text/plain": [
       "unknown    233\n",
       "None       172\n",
       "yes         97\n",
       "Name: OTHER BANK DETAILS, dtype: int64"
      ]
     },
     "execution_count": 47,
     "metadata": {},
     "output_type": "execute_result"
    }
   ],
   "source": [
    "df_model[\"OTHER BANK DETAILS\"].value_counts()"
   ]
  },
  {
   "cell_type": "code",
   "execution_count": 48,
   "metadata": {},
   "outputs": [
    {
     "data": {
      "text/plain": [
       "['CARD_NUMBER',\n",
       " 'MAX_AGING',\n",
       " 'Gender',\n",
       " 'MARITAL_STATUS',\n",
       " 'ANNUAL_INCOME_RANGE',\n",
       " 'Type of employment',\n",
       " 'YEARS OF EMPLOYMENT',\n",
       " 'EDUCATION',\n",
       " 'OTHER BANK DETAILS',\n",
       " 'NO OF DEPENDENT',\n",
       " 'SOURCE OF INCOME',\n",
       " 'age',\n",
       " 'current',\n",
       " 'dirty',\n",
       " 'y']"
      ]
     },
     "execution_count": 48,
     "metadata": {},
     "output_type": "execute_result"
    }
   ],
   "source": [
    "list(df_model)"
   ]
  },
  {
   "cell_type": "code",
   "execution_count": 49,
   "metadata": {},
   "outputs": [],
   "source": [
    "df_model['NO OF DEPENDENT'].value_counts()\n",
    "#As we can see here no of dependent variable contains dirty data so we removed this column for now\n",
    "df_model_final = df_model.drop(['NO OF DEPENDENT'],axis = 1)"
   ]
  },
  {
   "cell_type": "code",
   "execution_count": 50,
   "metadata": {},
   "outputs": [
    {
     "data": {
      "text/plain": [
       "['CARD_NUMBER',\n",
       " 'MAX_AGING',\n",
       " 'Gender',\n",
       " 'MARITAL_STATUS',\n",
       " 'ANNUAL_INCOME_RANGE',\n",
       " 'Type of employment',\n",
       " 'YEARS OF EMPLOYMENT',\n",
       " 'EDUCATION',\n",
       " 'OTHER BANK DETAILS',\n",
       " 'SOURCE OF INCOME',\n",
       " 'age',\n",
       " 'current',\n",
       " 'dirty',\n",
       " 'y']"
      ]
     },
     "execution_count": 50,
     "metadata": {},
     "output_type": "execute_result"
    }
   ],
   "source": [
    "list(df_model_final)"
   ]
  },
  {
   "cell_type": "code",
   "execution_count": 51,
   "metadata": {
    "scrolled": true
   },
   "outputs": [
    {
     "data": {
      "text/plain": [
       "array(['Business', 'unknown', 'Salary', 'Employee', 'Business man',\n",
       "       'Businessman', 'Banker', 'Pension', 'Salary and dividend',\n",
       "       'Business and salary', 'Business women', 'House Rent',\n",
       "       'Business Rent', 'Rent', 'Doctor', 'Salary and Rent', 'Physician',\n",
       "       'Salary Rent Agriculture', 'Business and rental', 'Salary OT'],\n",
       "      dtype=object)"
      ]
     },
     "execution_count": 51,
     "metadata": {},
     "output_type": "execute_result"
    }
   ],
   "source": [
    "df_model_final['SOURCE OF INCOME'].unique()"
   ]
  },
  {
   "cell_type": "code",
   "execution_count": 52,
   "metadata": {},
   "outputs": [],
   "source": [
    "def make_consistent_soi(i):\n",
    "        splitstring = i.split(\" \")\n",
    "        if len(splitstring) > 1 :\n",
    "            return \"multiple_income\"\n",
    "        elif i.startswith(\"B\") or i.startswith(\"b\"):\n",
    "            return \"Business\"\n",
    "        elif i.startswith(\"Salary\") or i.startswith(\"salary\"):\n",
    "            return \"Salary\"\n",
    "        elif i.startswith(\"Unknown\") or i.startswith(\"unknown\"):\n",
    "            return \"unknown\"\n",
    "        else:\n",
    "            return \"others\""
   ]
  },
  {
   "cell_type": "code",
   "execution_count": 53,
   "metadata": {},
   "outputs": [],
   "source": [
    "df_model_final['SOURCE OF INCOME']  = df_model_final['SOURCE OF INCOME'].apply(lambda x: make_consistent_soi(x))"
   ]
  },
  {
   "cell_type": "code",
   "execution_count": 54,
   "metadata": {},
   "outputs": [
    {
     "data": {
      "text/plain": [
       "Salary             215\n",
       "Business           175\n",
       "unknown             90\n",
       "multiple_income     11\n",
       "others              11\n",
       "Name: SOURCE OF INCOME, dtype: int64"
      ]
     },
     "execution_count": 54,
     "metadata": {},
     "output_type": "execute_result"
    }
   ],
   "source": [
    "df_model_final['SOURCE OF INCOME'].value_counts()"
   ]
  },
  {
   "cell_type": "code",
   "execution_count": 55,
   "metadata": {
    "scrolled": true
   },
   "outputs": [
    {
     "data": {
      "text/plain": [
       "['CARD_NUMBER',\n",
       " 'MAX_AGING',\n",
       " 'Gender',\n",
       " 'MARITAL_STATUS',\n",
       " 'ANNUAL_INCOME_RANGE',\n",
       " 'Type of employment',\n",
       " 'YEARS OF EMPLOYMENT',\n",
       " 'EDUCATION',\n",
       " 'OTHER BANK DETAILS',\n",
       " 'SOURCE OF INCOME',\n",
       " 'age',\n",
       " 'current',\n",
       " 'dirty',\n",
       " 'y']"
      ]
     },
     "execution_count": 55,
     "metadata": {},
     "output_type": "execute_result"
    }
   ],
   "source": [
    "list(df_model_final)"
   ]
  },
  {
   "cell_type": "code",
   "execution_count": 56,
   "metadata": {},
   "outputs": [
    {
     "data": {
      "text/plain": [
       "array([ 32,  42,  47,  44,  35,  36,   0,  48,  22,  45,  43,  30,  28,\n",
       "        34,  29,  27,  51,  31,  41,  37,  39,  38,  50,  -9,  49,  24,\n",
       "        33,  46,  52,  25,  53,  21,  23,  40,  26,  97, -11,  56,  55,\n",
       "        54,  64,  68,  59,  62,  -6,  57,  77,  69,  65], dtype=int64)"
      ]
     },
     "execution_count": 56,
     "metadata": {},
     "output_type": "execute_result"
    }
   ],
   "source": [
    "df_model.age.unique()"
   ]
  },
  {
   "cell_type": "code",
   "execution_count": 57,
   "metadata": {},
   "outputs": [],
   "source": [
    "#we have negative age number which is not wrong so we have to clean that\n",
    "#add 57 age to the negative age\n",
    "df_model_final.loc[(df_model_final.age < 0),'age'] = df_model_final['age'].apply(lambda x : x+57)"
   ]
  },
  {
   "cell_type": "code",
   "execution_count": 58,
   "metadata": {},
   "outputs": [],
   "source": [
    "#saving the data\n",
    "df_model_final.to_csv(out_path+'\\\\MBL_processed_model_ready.csv')"
   ]
  },
  {
   "cell_type": "code",
   "execution_count": 59,
   "metadata": {},
   "outputs": [],
   "source": [
    "data = df_model_final.copy()"
   ]
  },
  {
   "cell_type": "code",
   "execution_count": 60,
   "metadata": {},
   "outputs": [],
   "source": [
    "cat_vars=['YEARS OF EMPLOYMENT','Type of employment','SOURCE OF INCOME','EDUCATION','Gender','MARITAL_STATUS','OTHER BANK DETAILS']\n",
    "for var in cat_vars:\n",
    "    cat_list='var'+'_'+var\n",
    "    cat_list = pd.get_dummies(data[var], prefix=var)\n",
    "    data1=data.join(cat_list)\n",
    "    data=data1\n",
    "data_vars=data.columns.values.tolist()\n"
   ]
  },
  {
   "cell_type": "code",
   "execution_count": 61,
   "metadata": {},
   "outputs": [],
   "source": [
    "to_keep=[i for i in data_vars if i not in cat_vars]\n",
    "data_final = data[to_keep]"
   ]
  },
  {
   "cell_type": "code",
   "execution_count": 62,
   "metadata": {},
   "outputs": [],
   "source": [
    "data_final.to_csv(out_path+'\\\\MBL_processed_model_ready_data_Final.csv')"
   ]
  },
  {
   "cell_type": "code",
   "execution_count": 63,
   "metadata": {},
   "outputs": [
    {
     "name": "stderr",
     "output_type": "stream",
     "text": [
      "d:\\env\\lib\\site-packages\\pandas\\core\\frame.py:3781: SettingWithCopyWarning: \n",
      "A value is trying to be set on a copy of a slice from a DataFrame\n",
      "\n",
      "See the caveats in the documentation: http://pandas.pydata.org/pandas-docs/stable/indexing.html#indexing-view-versus-copy\n",
      "  return super(DataFrame, self).rename(**kwargs)\n"
     ]
    }
   ],
   "source": [
    "data_final.rename(columns={'y':'Default'},inplace=True)"
   ]
  },
  {
   "cell_type": "code",
   "execution_count": 64,
   "metadata": {
    "scrolled": true
   },
   "outputs": [
    {
     "name": "stdout",
     "output_type": "stream",
     "text": [
      "length of oversampled data is 628\n",
      "Number of no delinquency in oversampled data 314\n",
      "Number of delinquency 314\n",
      "Percentage of no delinquency is  0.5\n",
      "Percentage of delinquency is  0.5\n"
     ]
    },
    {
     "name": "stderr",
     "output_type": "stream",
     "text": [
      "d:\\env\\lib\\site-packages\\sklearn\\preprocessing\\data.py:625: DataConversionWarning: Data with input dtype uint8, int32, int64 were all converted to float64 by StandardScaler.\n",
      "  return self.partial_fit(X, y)\n",
      "d:\\env\\lib\\site-packages\\ipykernel_launcher.py:16: DataConversionWarning: Data with input dtype uint8, int32, int64 were all converted to float64 by StandardScaler.\n",
      "  app.launch_new_instance()\n",
      "d:\\env\\lib\\site-packages\\ipykernel_launcher.py:17: DataConversionWarning: Data with input dtype uint8, int32, int64 were all converted to float64 by StandardScaler.\n",
      "d:\\env\\lib\\site-packages\\sklearn\\utils\\validation.py:761: DataConversionWarning: A column-vector y was passed when a 1d array was expected. Please change the shape of y to (n_samples, ), for example using ravel().\n",
      "  y = column_or_1d(y, warn=True)\n"
     ]
    }
   ],
   "source": [
    "# from sklearn.cross_validation import train_test_split\n",
    "#splitting into training and testing set\n",
    "#we have to remove the bias from the dataset so we apply SMOTE method to make dataset balance\n",
    "x = data_final.loc[:, data_final.columns != 'Default']\n",
    "y = data_final.loc[:, data_final.columns == 'Default']\n",
    "\n",
    "from imblearn.over_sampling import SMOTE\n",
    "from sklearn import preprocessing\n",
    "from sklearn.model_selection import train_test_split\n",
    "\n",
    "os = SMOTE(random_state=0)\n",
    "x_train, x_test, y_train, y_test = train_test_split(x, y, test_size = 0.35, random_state=0)\n",
    "\n",
    "columns = x_train.columns\n",
    "scaler = preprocessing.StandardScaler().fit(x_train)\n",
    "x_train_transformed = scaler.transform(x_train)\n",
    "x_test_transformed = scaler.transform(x_test)\n",
    "os_data_x, os_data_y = os.fit_sample (x_train_transformed, y_train)\n",
    "os_data_x = pd.DataFrame(data=os_data_x, columns=columns)\n",
    "os_data_y = pd.DataFrame(data=os_data_y, columns=['Default'])\n",
    "\n",
    "#let's check the numbers of obs in each of our datasets\n",
    "\n",
    "print(\"length of oversampled data is\",len(os_data_x))\n",
    "print(\"Number of no delinquency in oversampled data\",len(os_data_y[os_data_y['Default']==0]))\n",
    "print(\"Number of delinquency\", len(os_data_y[os_data_y['Default']==1]))\n",
    "print(\"Percentage of no delinquency is \", len(os_data_y[os_data_y['Default']==0])/len(os_data_x))\n",
    "print(\"Percentage of delinquency is \", len(os_data_y[os_data_y['Default']==1])/len(os_data_x))"
   ]
  },
  {
   "cell_type": "code",
   "execution_count": 65,
   "metadata": {},
   "outputs": [
    {
     "data": {
      "image/png": "[encoded data removed]",
      "text/plain": [
       "<Figure size 432x288 with 1 Axes>"
      ]
     },
     "metadata": {},
     "output_type": "display_data"
    }
   ],
   "source": [
    "sns.countplot(x='Default',data=os_data_y)\n",
    "# plt.show()\n",
    "plt.title('Default and Non-Default Rate after SMOTE')\n",
    "plt.savefig('counts_plot_smote')"
   ]
  },
  {
   "cell_type": "code",
   "execution_count": 66,
   "metadata": {},
   "outputs": [],
   "source": [
    "data_final_vars=data_final.columns.values.tolist()\n",
    "y=['Default']\n",
    "X=[i for i in data_final_vars if i not in y]"
   ]
  },
  {
   "cell_type": "code",
   "execution_count": 67,
   "metadata": {},
   "outputs": [
    {
     "data": {
      "text/plain": [
       "Index(['CARD_NUMBER', 'MAX_AGING', 'ANNUAL_INCOME_RANGE', 'age', 'current',\n",
       "       'dirty', 'YEARS OF EMPLOYMENT_0_to_2yrs',\n",
       "       'YEARS OF EMPLOYMENT_2_to_5yrs', 'YEARS OF EMPLOYMENT_5_to_10yrs',\n",
       "       'YEARS OF EMPLOYMENT_more_than_10yrs', 'Type of employment_Army',\n",
       "       'Type of employment_Employee', 'Type of employment_Employer',\n",
       "       'Type of employment_Self-employed', 'Type of employment_confidential',\n",
       "       'SOURCE OF INCOME_Business', 'SOURCE OF INCOME_Salary',\n",
       "       'SOURCE OF INCOME_multiple_income', 'SOURCE OF INCOME_others',\n",
       "       'SOURCE OF INCOME_unknown', 'EDUCATION_graduate',\n",
       "       'EDUCATION_intermediate', 'EDUCATION_post_graduate',\n",
       "       'EDUCATION_under_graduate', 'Gender_Female', 'Gender_Male',\n",
       "       'MARITAL_STATUS_Married', 'MARITAL_STATUS_Unmarried',\n",
       "       'MARITAL_STATUS_unknown', 'OTHER BANK DETAILS_None',\n",
       "       'OTHER BANK DETAILS_unknown', 'OTHER BANK DETAILS_yes'],\n",
       "      dtype='object')"
      ]
     },
     "execution_count": 67,
     "metadata": {},
     "output_type": "execute_result"
    }
   ],
   "source": [
    "os_data_x.columns"
   ]
  },
  {
   "cell_type": "code",
   "execution_count": 68,
   "metadata": {},
   "outputs": [
    {
     "name": "stderr",
     "output_type": "stream",
     "text": [
      "d:\\env\\lib\\site-packages\\sklearn\\linear_model\\logistic.py:433: FutureWarning: Default solver will be changed to 'lbfgs' in 0.22. Specify a solver to silence this warning.\n",
      "  FutureWarning)\n"
     ]
    },
    {
     "name": "stdout",
     "output_type": "stream",
     "text": [
      "[ True  True  True False  True  True  True False  True  True False  True\n",
      " False  True False False  True False False  True  True False  True  True\n",
      " False False  True  True False  True  True  True]\n",
      "[ 1  1  1  2  1  1  1  8  1  1 13  1 10  1 12  5  1  3  6  1  1  4  1  1\n",
      " 11  7  1  1  9  1  1  1]\n",
      "LogisticRegression(C=1.0, class_weight=None, dual=False, fit_intercept=True,\n",
      "          intercept_scaling=1, max_iter=100, multi_class='warn',\n",
      "          n_jobs=None, penalty='l2', random_state=0, solver='warn',\n",
      "          tol=0.0001, verbose=0, warm_start=False)\n"
     ]
    },
    {
     "name": "stderr",
     "output_type": "stream",
     "text": [
      "d:\\env\\lib\\site-packages\\sklearn\\linear_model\\logistic.py:433: FutureWarning: Default solver will be changed to 'lbfgs' in 0.22. Specify a solver to silence this warning.\n",
      "  FutureWarning)\n",
      "d:\\env\\lib\\site-packages\\sklearn\\linear_model\\logistic.py:433: FutureWarning: Default solver will be changed to 'lbfgs' in 0.22. Specify a solver to silence this warning.\n",
      "  FutureWarning)\n",
      "d:\\env\\lib\\site-packages\\sklearn\\linear_model\\logistic.py:433: FutureWarning: Default solver will be changed to 'lbfgs' in 0.22. Specify a solver to silence this warning.\n",
      "  FutureWarning)\n",
      "d:\\env\\lib\\site-packages\\sklearn\\linear_model\\logistic.py:433: FutureWarning: Default solver will be changed to 'lbfgs' in 0.22. Specify a solver to silence this warning.\n",
      "  FutureWarning)\n",
      "d:\\env\\lib\\site-packages\\sklearn\\linear_model\\logistic.py:433: FutureWarning: Default solver will be changed to 'lbfgs' in 0.22. Specify a solver to silence this warning.\n",
      "  FutureWarning)\n",
      "d:\\env\\lib\\site-packages\\sklearn\\linear_model\\logistic.py:433: FutureWarning: Default solver will be changed to 'lbfgs' in 0.22. Specify a solver to silence this warning.\n",
      "  FutureWarning)\n",
      "d:\\env\\lib\\site-packages\\sklearn\\linear_model\\logistic.py:433: FutureWarning: Default solver will be changed to 'lbfgs' in 0.22. Specify a solver to silence this warning.\n",
      "  FutureWarning)\n",
      "d:\\env\\lib\\site-packages\\sklearn\\linear_model\\logistic.py:433: FutureWarning: Default solver will be changed to 'lbfgs' in 0.22. Specify a solver to silence this warning.\n",
      "  FutureWarning)\n",
      "d:\\env\\lib\\site-packages\\sklearn\\linear_model\\logistic.py:433: FutureWarning: Default solver will be changed to 'lbfgs' in 0.22. Specify a solver to silence this warning.\n",
      "  FutureWarning)\n",
      "d:\\env\\lib\\site-packages\\sklearn\\linear_model\\logistic.py:433: FutureWarning: Default solver will be changed to 'lbfgs' in 0.22. Specify a solver to silence this warning.\n",
      "  FutureWarning)\n",
      "d:\\env\\lib\\site-packages\\sklearn\\linear_model\\logistic.py:433: FutureWarning: Default solver will be changed to 'lbfgs' in 0.22. Specify a solver to silence this warning.\n",
      "  FutureWarning)\n",
      "d:\\env\\lib\\site-packages\\sklearn\\linear_model\\logistic.py:433: FutureWarning: Default solver will be changed to 'lbfgs' in 0.22. Specify a solver to silence this warning.\n",
      "  FutureWarning)\n"
     ]
    }
   ],
   "source": [
    "from sklearn.feature_selection import RFE\n",
    "from sklearn.linear_model import LogisticRegression\n",
    "logreg = LogisticRegression(random_state = 0)\n",
    "rfe = RFE(logreg, 20)\n",
    "rfe = rfe.fit(os_data_x, os_data_y.values.ravel())\n",
    "print(rfe.support_)\n",
    "print(rfe.ranking_)\n",
    "print(rfe.estimator_) "
   ]
  },
  {
   "cell_type": "code",
   "execution_count": 69,
   "metadata": {},
   "outputs": [
    {
     "name": "stdout",
     "output_type": "stream",
     "text": [
      "Index(['CARD_NUMBER', 'MAX_AGING', 'ANNUAL_INCOME_RANGE', 'current', 'dirty',\n",
      "       'YEARS OF EMPLOYMENT_0_to_2yrs', 'YEARS OF EMPLOYMENT_5_to_10yrs',\n",
      "       'YEARS OF EMPLOYMENT_more_than_10yrs', 'Type of employment_Employee',\n",
      "       'Type of employment_Self-employed', 'SOURCE OF INCOME_Salary',\n",
      "       'SOURCE OF INCOME_unknown', 'EDUCATION_graduate',\n",
      "       'EDUCATION_post_graduate', 'EDUCATION_under_graduate',\n",
      "       'MARITAL_STATUS_Married', 'MARITAL_STATUS_Unmarried',\n",
      "       'OTHER BANK DETAILS_None', 'OTHER BANK DETAILS_unknown',\n",
      "       'OTHER BANK DETAILS_yes'],\n",
      "      dtype='object')\n"
     ]
    }
   ],
   "source": [
    "print(os_data_x.columns[rfe.get_support()]) "
   ]
  },
  {
   "cell_type": "code",
   "execution_count": 73,
   "metadata": {},
   "outputs": [],
   "source": [
    "#choosing only useful variables\n",
    "cols = ['ANNUAL_INCOME_RANGE','YEARS OF EMPLOYMENT_0_to_2yrs', 'YEARS OF EMPLOYMENT_5_to_10yrs',\n",
    "       'YEARS OF EMPLOYMENT_more_than_10yrs', 'Type of employment_Employee',\n",
    "       'Type of employment_Self-employed', 'SOURCE OF INCOME_Salary',\n",
    "       'SOURCE OF INCOME_unknown', 'EDUCATION_graduate',\n",
    "       'EDUCATION_post_graduate', 'EDUCATION_under_graduate',\n",
    "       'MARITAL_STATUS_Married', 'MARITAL_STATUS_Unmarried',\n",
    "       'OTHER BANK DETAILS_None', 'OTHER BANK DETAILS_unknown']"
   ]
  },
  {
   "cell_type": "code",
   "execution_count": 74,
   "metadata": {},
   "outputs": [],
   "source": [
    "x=os_data_x[cols]\n",
    "y=os_data_y['Default']"
   ]
  },
  {
   "cell_type": "code",
   "execution_count": 75,
   "metadata": {},
   "outputs": [
    {
     "name": "stdout",
     "output_type": "stream",
     "text": [
      "Optimization terminated successfully.\n",
      "         Current function value: 0.510658\n",
      "         Iterations 7\n",
      "                           Logit Regression Results                           \n",
      "==============================================================================\n",
      "Dep. Variable:                Default   No. Observations:                  628\n",
      "Model:                          Logit   Df Residuals:                      613\n",
      "Method:                           MLE   Df Model:                           14\n",
      "Date:                Sun, 06 Jan 2019   Pseudo R-squ.:                  0.2633\n",
      "Time:                        12:44:32   Log-Likelihood:                -320.69\n",
      "converged:                       True   LL-Null:                       -435.30\n",
      "                                        LLR p-value:                 5.617e-41\n",
      "=======================================================================================================\n",
      "                                          coef    std err          z      P>|z|      [0.025      0.975]\n",
      "-------------------------------------------------------------------------------------------------------\n",
      "ANNUAL_INCOME_RANGE                    -0.2353      0.137     -1.722      0.085      -0.503       0.033\n",
      "YEARS OF EMPLOYMENT_0_to_2yrs          -0.2610      0.146     -1.790      0.073      -0.547       0.025\n",
      "YEARS OF EMPLOYMENT_5_to_10yrs         -0.1674      0.149     -1.124      0.261      -0.459       0.124\n",
      "YEARS OF EMPLOYMENT_more_than_10yrs    -0.3406      0.133     -2.567      0.010      -0.601      -0.081\n",
      "Type of employment_Employee             0.0969      0.268      0.362      0.717      -0.428       0.622\n",
      "Type of employment_Self-employed       -0.5076      0.249     -2.036      0.042      -0.996      -0.019\n",
      "SOURCE OF INCOME_Salary                -1.0482      0.196     -5.337      0.000      -1.433      -0.663\n",
      "SOURCE OF INCOME_unknown               -0.6609      0.213     -3.098      0.002      -1.079      -0.243\n",
      "EDUCATION_graduate                     -1.2849      0.252     -5.096      0.000      -1.779      -0.791\n",
      "EDUCATION_post_graduate                -1.3068      0.234     -5.581      0.000      -1.766      -0.848\n",
      "EDUCATION_under_graduate               -1.6085      0.287     -5.611      0.000      -2.170      -1.047\n",
      "MARITAL_STATUS_Married                 -1.0339      0.189     -5.457      0.000      -1.405      -0.663\n",
      "MARITAL_STATUS_Unmarried               -0.5468      0.198     -2.763      0.006      -0.935      -0.159\n",
      "OTHER BANK DETAILS_None                -0.4244      0.150     -2.828      0.005      -0.719      -0.130\n",
      "OTHER BANK DETAILS_unknown             -0.7138      0.183     -3.904      0.000      -1.072      -0.355\n",
      "=======================================================================================================\n"
     ]
    }
   ],
   "source": [
    "import statsmodels.api as sm\n",
    "logit_model=sm.Logit(y,x)\n",
    "result=logit_model.fit()\n",
    "print(result.summary())"
   ]
  },
  {
   "cell_type": "code",
   "execution_count": 76,
   "metadata": {
    "scrolled": true
   },
   "outputs": [],
   "source": [
    "cols = ['ANNUAL_INCOME_RANGE','YEARS OF EMPLOYMENT_0_to_2yrs',\n",
    "       'YEARS OF EMPLOYMENT_more_than_10yrs','Type of employment_Self-employed', 'SOURCE OF INCOME_Salary',\n",
    "       'SOURCE OF INCOME_unknown', 'EDUCATION_graduate',\n",
    "       'EDUCATION_post_graduate', 'EDUCATION_under_graduate',\n",
    "       'MARITAL_STATUS_Married', 'MARITAL_STATUS_Unmarried']\n"
   ]
  },
  {
   "cell_type": "code",
   "execution_count": 77,
   "metadata": {},
   "outputs": [
    {
     "name": "stdout",
     "output_type": "stream",
     "text": [
      "Optimization terminated successfully.\n",
      "         Current function value: 0.531413\n",
      "         Iterations 7\n",
      "                           Logit Regression Results                           \n",
      "==============================================================================\n",
      "Dep. Variable:                Default   No. Observations:                  628\n",
      "Model:                          Logit   Df Residuals:                      617\n",
      "Method:                           MLE   Df Model:                           10\n",
      "Date:                Sun, 06 Jan 2019   Pseudo R-squ.:                  0.2333\n",
      "Time:                        12:44:40   Log-Likelihood:                -333.73\n",
      "converged:                       True   LL-Null:                       -435.30\n",
      "                                        LLR p-value:                 3.575e-38\n",
      "=======================================================================================================\n",
      "                                          coef    std err          z      P>|z|      [0.025      0.975]\n",
      "-------------------------------------------------------------------------------------------------------\n",
      "ANNUAL_INCOME_RANGE                    -0.2515      0.138     -1.827      0.068      -0.521       0.018\n",
      "YEARS OF EMPLOYMENT_0_to_2yrs          -0.2421      0.134     -1.806      0.071      -0.505       0.021\n",
      "YEARS OF EMPLOYMENT_more_than_10yrs    -0.2678      0.118     -2.264      0.024      -0.500      -0.036\n",
      "Type of employment_Self-employed       -0.5302      0.174     -3.041      0.002      -0.872      -0.188\n",
      "SOURCE OF INCOME_Salary                -0.8956      0.181     -4.937      0.000      -1.251      -0.540\n",
      "SOURCE OF INCOME_unknown               -0.8827      0.168     -5.245      0.000      -1.212      -0.553\n",
      "EDUCATION_graduate                     -1.4747      0.244     -6.047      0.000      -1.953      -0.997\n",
      "EDUCATION_post_graduate                -1.3581      0.223     -6.085      0.000      -1.796      -0.921\n",
      "EDUCATION_under_graduate               -1.8546      0.278     -6.675      0.000      -2.399      -1.310\n",
      "MARITAL_STATUS_Married                 -0.9749      0.191     -5.114      0.000      -1.349      -0.601\n",
      "MARITAL_STATUS_Unmarried               -0.4496      0.194     -2.321      0.020      -0.829      -0.070\n",
      "=======================================================================================================\n"
     ]
    }
   ],
   "source": [
    "x=os_data_x[cols]\n",
    "y=os_data_y['Default']\n",
    "\n",
    "logit_model=sm.Logit(y,x)\n",
    "result=logit_model.fit()\n",
    "print(result.summary())"
   ]
  },
  {
   "cell_type": "code",
   "execution_count": 78,
   "metadata": {},
   "outputs": [],
   "source": [
    "# cols = ['ANNUAL_INCOME_RANGE','YEARS OF EMPLOYMENT_0_to_2yrs',\n",
    "#        'YEARS OF EMPLOYMENT_more_than_10yrs','Type of employment_Self-employed', 'SOURCE OF INCOME_Salary',\n",
    "#        'SOURCE OF INCOME_unknown', 'EDUCATION_graduate',\n",
    "#        'EDUCATION_post_graduate', 'EDUCATION_under_graduate',\n",
    "#        'MARITAL_STATUS_Married', 'MARITAL_STATUS_Unmarried']\n",
    "# x=os_data_x[cols]\n",
    "# y=os_data_y['Default']"
   ]
  },
  {
   "cell_type": "code",
   "execution_count": 79,
   "metadata": {
    "scrolled": true
   },
   "outputs": [],
   "source": [
    "# logit_model=sm.Logit(y,x)\n",
    "# result=logit_model.fit()\n",
    "# print(result.summary())"
   ]
  },
  {
   "cell_type": "code",
   "execution_count": 80,
   "metadata": {},
   "outputs": [],
   "source": [
    "x.to_csv(out_path+\"training set.csv\",index = False)\n",
    "y.to_csv(out_path+\"target set.csv\", index = False)"
   ]
  },
  {
   "cell_type": "code",
   "execution_count": 81,
   "metadata": {},
   "outputs": [],
   "source": [
    "from sklearn.linear_model import LogisticRegression\n",
    "from sklearn.naive_bayes import GaussianNB\n",
    "from sklearn.ensemble import RandomForestClassifier\n",
    "from sklearn.tree import DecisionTreeClassifier\n",
    "from sklearn.metrics import confusion_matrix\n",
    "from sklearn.metrics import classification_report\n",
    "from sklearn import metrics\n",
    "from sklearn.pipeline import make_pipeline\n",
    "from sklearn import preprocessing\n",
    "from sklearn.exceptions import DataConversionWarning\n",
    "import warnings\n",
    "from sklearn.metrics import roc_auc_score\n",
    "from sklearn.metrics import roc_curve\n",
    "from sklearn.model_selection import cross_val_score\n",
    "\n",
    "\n",
    "def compare_clf_model(classifier):\n",
    "    x_train, x_test, y_train, y_test = train_test_split(x, y, test_size=0.20, random_state=0)\n",
    "#     warnings.filterwarnings(action='ignore', category=DataConversionWarning)\n",
    "    with warnings.catch_warnings():\n",
    "        warnings.simplefilter(\"ignore\")\n",
    "        scaler = preprocessing.StandardScaler().fit(x_train)\n",
    "        x_train_transformed = scaler.transform(x_train)\n",
    "        x_test_transformed = scaler.transform(x_test)\n",
    "        clf = classifier(random_state =0)\n",
    "        model = clf.fit(x_train_transformed,y_train)\n",
    "        y_pred = clf.predict(x_test_transformed)\n",
    "        #plotting confusion matrix  \n",
    "        cmap = sns.cubehelix_palette(50, hue =0.5, rot = 0, light=0.9, dark = 0, as_cmap = True)\n",
    "        cfm = confusion_matrix(y_test, y_pred)\n",
    "        sns.heatmap(cfm, cmap=cmap,xticklabels =['0','1'],yticklabels =['0','1'],annot = True, fmt = 'd',)\n",
    "        plt.xlabel('Predicted')\n",
    "        plt.ylabel('Actual')\n",
    "        print(classification_report(y_test, y_pred))\n",
    "        #ROC Curve for logistic regression\n",
    "        roc_auc = roc_auc_score(y_test, y_pred)\n",
    "        fpr, tpr, thresholds = roc_curve(y_test, clf.predict_proba(x_test_transformed)[:,1])\n",
    "        plt.figure()\n",
    "        plt.plot(fpr, tpr, label='(area = %0.2f)' % roc_auc)\n",
    "        plt.plot([0, 1], [0, 1],'r--')\n",
    "        plt.xlim([0.0, 1])\n",
    "        plt.ylim([0.0, 1.05])\n",
    "        plt.xlabel('False Positive Rate')\n",
    "        plt.ylabel('True Positive Rate')\n",
    "        plt.title('Receiver operating characteristic')\n",
    "        plt.legend(loc=\"lower right\")\n",
    "        plt.savefig('ROC')\n",
    "        plt.show()\n",
    "        scores = cross_val_score(clf, x_train_transformed, y_train, cv=5)\n",
    "        print('Accuracy of on test set: {:.2f}'.format(clf.score(x_test_transformed, y_test)))\n",
    "        print(\"Accuracy after cross validation: %0.2f (+/- %0.2f)\" % (scores.mean(), scores.std() * 2))\n",
    "#     return model\n"
   ]
  },
  {
   "cell_type": "code",
   "execution_count": 89,
   "metadata": {},
   "outputs": [
    {
     "data": {
      "text/html": [
       "<style>\n",
       ".output_wrapper, .output {\n",
       "    height:auto !important;\n",
       "    max-height:1000px;  /* your desired max-height here */\n",
       "}\n",
       ".output_scroll {\n",
       "    box-shadow:none !important;\n",
       "    webkit-box-shadow:none !important;\n",
       "}\n",
       "</style>\n"
      ],
      "text/plain": [
       "<IPython.core.display.HTML object>"
      ]
     },
     "metadata": {},
     "output_type": "display_data"
    }
   ],
   "source": [
    "%%html\n",
    "<style>\n",
    ".output_wrapper, .output {\n",
    "    height:auto !important;\n",
    "    max-height:1000px;  /* your desired max-height here */\n",
    "}\n",
    ".output_scroll {\n",
    "    box-shadow:none !important;\n",
    "    webkit-box-shadow:none !important;\n",
    "}\n",
    "</style>"
   ]
  },
  {
   "cell_type": "code",
   "execution_count": 90,
   "metadata": {
    "scrolled": true
   },
   "outputs": [
    {
     "name": "stdout",
     "output_type": "stream",
     "text": [
      "              precision    recall  f1-score   support\n",
      "\n",
      "           0       0.87      0.79      0.83        67\n",
      "           1       0.78      0.86      0.82        59\n",
      "\n",
      "   micro avg       0.83      0.83      0.83       126\n",
      "   macro avg       0.83      0.83      0.83       126\n",
      "weighted avg       0.83      0.83      0.83       126\n",
      "\n"
     ]
    },
    {
     "data": {
      "image/png": "[encoded data removed]",
      "text/plain": [
       "<Figure size 432x288 with 2 Axes>"
      ]
     },
     "metadata": {
      "needs_background": "light"
     },
     "output_type": "display_data"
    },
    {
     "data": {
      "image/png": "[encoded data removed]",
      "text/plain": [
       "<Figure size 432x288 with 1 Axes>"
      ]
     },
     "metadata": {
      "needs_background": "light"
     },
     "output_type": "display_data"
    },
    {
     "name": "stdout",
     "output_type": "stream",
     "text": [
      "Accuracy of on test set: 0.83\n",
      "Accuracy after cross validation: 0.77 (+/- 0.04)\n"
     ]
    }
   ],
   "source": [
    "compare_clf_model(LogisticRegression)"
   ]
  },
  {
   "cell_type": "code",
   "execution_count": 83,
   "metadata": {},
   "outputs": [
    {
     "name": "stdout",
     "output_type": "stream",
     "text": [
      "              precision    recall  f1-score   support\n",
      "\n",
      "           0       0.97      0.97      0.97        67\n",
      "           1       0.97      0.97      0.97        59\n",
      "\n",
      "   micro avg       0.97      0.97      0.97       126\n",
      "   macro avg       0.97      0.97      0.97       126\n",
      "weighted avg       0.97      0.97      0.97       126\n",
      "\n"
     ]
    },
    {
     "data": {
      "image/png": "[encoded data removed]",
      "text/plain": [
       "<Figure size 432x288 with 2 Axes>"
      ]
     },
     "metadata": {},
     "output_type": "display_data"
    },
    {
     "data": {
      "image/png": "[encoded data removed]",
      "text/plain": [
       "<Figure size 432x288 with 1 Axes>"
      ]
     },
     "metadata": {},
     "output_type": "display_data"
    },
    {
     "name": "stdout",
     "output_type": "stream",
     "text": [
      "Accuracy of on test set: 0.97\n",
      "Accuracy after cross validation: 0.97 (+/- 0.03)\n"
     ]
    }
   ],
   "source": [
    "compare_clf_model(RandomForestClassifier)"
   ]
  },
  {
   "cell_type": "code",
   "execution_count": 84,
   "metadata": {
    "scrolled": false
   },
   "outputs": [
    {
     "name": "stdout",
     "output_type": "stream",
     "text": [
      "              precision    recall  f1-score   support\n",
      "\n",
      "           0       0.97      0.96      0.96        67\n",
      "           1       0.95      0.97      0.96        59\n",
      "\n",
      "   micro avg       0.96      0.96      0.96       126\n",
      "   macro avg       0.96      0.96      0.96       126\n",
      "weighted avg       0.96      0.96      0.96       126\n",
      "\n"
     ]
    },
    {
     "data": {
      "image/png": "[encoded data removed]",
      "text/plain": [
       "<Figure size 432x288 with 2 Axes>"
      ]
     },
     "metadata": {},
     "output_type": "display_data"
    },
    {
     "data": {
      "image/png": "[encoded data removed]",
      "text/plain": [
       "<Figure size 432x288 with 1 Axes>"
      ]
     },
     "metadata": {},
     "output_type": "display_data"
    },
    {
     "name": "stdout",
     "output_type": "stream",
     "text": [
      "Accuracy of on test set: 0.96\n",
      "Accuracy after cross validation: 0.96 (+/- 0.03)\n"
     ]
    }
   ],
   "source": [
    "compare_clf_model(DecisionTreeClassifier)"
   ]
  },
  {
   "cell_type": "markdown",
   "metadata": {},
   "source": [
    "Above three classifier random forest gives the best accuracy i.e 97 for the current dataset."
   ]
  },
  {
   "cell_type": "code",
   "execution_count": null,
   "metadata": {},
   "outputs": [],
   "source": []
  }
 ],
 "metadata": {
  "kernelspec": {
   "display_name": "Python 3",
   "language": "python",
   "name": "python3"
  },
  "language_info": {
   "codemirror_mode": {
    "name": "ipython",
    "version": 3
   },
   "file_extension": ".py",
   "mimetype": "text/x-python",
   "name": "python",
   "nbconvert_exporter": "python",
   "pygments_lexer": "ipython3",
   "version": "3.6.8"
  }
 },
 "nbformat": 4,
 "nbformat_minor": 2
}
